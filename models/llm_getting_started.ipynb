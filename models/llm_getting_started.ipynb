{
 "cells": [
  {
   "cell_type": "markdown",
   "metadata": {
    "vscode": {
     "languageId": "plaintext"
    }
   },
   "source": [
    "https://python.langchain.com/en/latest/modules/models/llms/getting_started.html"
   ]
  },
  {
   "cell_type": "code",
   "execution_count": 6,
   "metadata": {
    "tags": []
   },
   "outputs": [],
   "source": [
    "from langchain.llms import OpenAI\n",
    "import os\n",
    "import sys\n",
    "sys.path.insert(0, '..')\n",
    "import local_secrets as secrets"
   ]
  },
  {
   "cell_type": "code",
   "execution_count": 21,
   "metadata": {
    "tags": []
   },
   "outputs": [
    {
     "name": "stdout",
     "output_type": "stream",
     "text": [
      "generations=[[Generation(text='\\n\\nQ: What did the fish say when it hit the wall?\\nA: Dam!', generation_info={'finish_reason': 'stop', 'logprobs': None}), Generation(text='\\n\\nQ: What did the fish say when it hit the wall?\\nA: Dam!', generation_info={'finish_reason': 'stop', 'logprobs': None})], [Generation(text=\"\\n\\nLying in bed, I ponder life\\nIt's so much more than just strife\\nWith every thought that passes by\\nI can't help but ask why?\\n\\nI contemplate the people I know\\nFriends, family, and foes\\nI think of things I have yet to do\\nAnd the things I'd like to undo\\n\\nMy mind starts to wander off\\nTo places both near and far\\nDreams of a future that's bright\\nAnd hopes of a past that's far from blight\\n\\nThe hours pass by, I'm still in bed\\nBut I'm not the same, I've been fed\\nA new perspective and a fresh start\\nTo help me make it through my heart\", generation_info={'finish_reason': 'stop', 'logprobs': None}), Generation(text=\"\\n\\nA sun so hot and bright,\\nIt's hard to look with such light,\\nBut the warmth and beauty\\nIs enough to make me feel alright.\\n\\nThe birds sing their songs,\\nThe flowers bloom,\\nThe wind blowing through the trees,\\nIt's a beautiful day and I'm in love with it all.\\n\\nThe sky so blue,\\nThe clouds so white,\\nThe sun is setting,\\nA beautiful sight.\\n\\nThe night is dark,\\nBut the stars twinkle so bright,\\nA lovely reminder\\nThat nothing lasts forever, we must appreciate the light.\", generation_info={'finish_reason': 'stop', 'logprobs': None})], [Generation(text=\"\\n\\nQ: Why don't scientists trust atoms?\\nA: Because they make up everything!\", generation_info={'finish_reason': 'stop', 'logprobs': None}), Generation(text='\\n\\nQ: Why did the chicken go to the séance?\\nA: To get to the other side.', generation_info={'finish_reason': 'stop', 'logprobs': None})], [Generation(text=' about a river\\n\\nA river of life, a river of delight\\nA river to bring peace and serenity in sight\\nA river that glistens in the morning sun\\nA river to bring joy to everyone\\n\\nA river of power, a river of strength\\nA river that flows far and wide\\nA river that cascades and swirls around\\nA river that brings life to the ground\\n\\nA river of dreams, a river of hope\\nA river to bring joy and cope\\nA river that sparkles in the moonlit night\\nA river that brings hope and light\\n\\nA river of beauty, a river of life\\nA river that brings us peace and delight\\nA river that flows with grace and power\\nA river that will last forever and hour.', generation_info={'finish_reason': 'stop', 'logprobs': None}), Generation(text=\"\\n\\nThe sun is setting on this peaceful day\\nThe birds are singing their evening refrain\\nThe sky is ablaze in red and gold\\nA perfect ending to a story that's been told\\n\\nThe trees are swaying in the gentle breeze\\nThe flowers are blooming in a bright array\\nThe world is so still, like a dream\\nThe beauty of it is here to stay\\n\\nThe moon is rising and the stars are bright\\nThe night is here, with its own delight\\nThe air is calm and the night is still\\nThe peace of the moment brings a thrill\\n\\nAs the night comes to a close\\nThe beauty of the day we chose\\nIt's full of memories and more\\nOf a day that's been and gone before\", generation_info={'finish_reason': 'stop', 'logprobs': None})], [Generation(text='\\n\\nQ. What did one ocean say to the other ocean?\\nA. Nothing, they just waved.', generation_info={'finish_reason': 'stop', 'logprobs': None}), Generation(text='\\n\\nQ: Why did the chicken go to the séance?\\nA: To get to the other side.', generation_info={'finish_reason': 'stop', 'logprobs': None})], [Generation(text=\"\\n\\nA storm has brewed inside my heart\\nA raging sea of pain, it starts\\nThe tides of fear that wash ashore\\nThe ache of longing evermore\\n\\nThe lightning strikes and tears me apart\\nThe thunder claps with a heavy heart\\nThe driving rain that falls from my eyes\\nMy soul is drowning in dark skies\\n\\nThe winds of sorrow blow so strong\\nMy heart is broken, yet I'm still standing\\nMy spirit weak, but will endure\\nThe tempest of emotions so pure\\n\\nThe storm will pass, I know this to be true\\nThe sun will shine and my spirit renew\\nMy broken heart will mend in time\\nThough the storm has left its mark behind.\", generation_info={'finish_reason': 'stop', 'logprobs': None}), Generation(text=\"\\n\\nA single moment in time\\nA moment so sublime\\nThat I can feel the peace\\nIt's like a gentle breeze\\n\\nA feeling of contentment\\nA blissful sentiment\\nA stillness that surrounds me\\nI am finally free\\n\\nA moment of joy and love\\nA moment sent from above\\nMy soul is touched with grace\\nA sweet and peaceful place\\n\\nIn this moment I can be\\nMy truest and best me\\nA place of joy and bliss\\nThis moment I will not miss\", generation_info={'finish_reason': 'stop', 'logprobs': None})]] llm_output={'token_usage': {'prompt_tokens': 21, 'total_tokens': 990, 'completion_tokens': 969}, 'model_name': 'text-davinci-003'}\n"
     ]
    }
   ],
   "source": [
    "os.environ['OPENAI_API_KEY'] = secrets.techstyle_openai_key\n",
    "llm = OpenAI(model_name=\"text-davinci-003\", n=2, best_of=2)\n",
    "llm_result = llm.generate(['Tell me a joke', 'Write a poem']*3)\n",
    "print(llm_result)"
   ]
  },
  {
   "cell_type": "code",
   "execution_count": 30,
   "metadata": {
    "tags": []
   },
   "outputs": [
    {
     "data": {
      "text/plain": [
       "[Generation(text=' about a river\\n\\nA river of life, a river of delight\\nA river to bring peace and serenity in sight\\nA river that glistens in the morning sun\\nA river to bring joy to everyone\\n\\nA river of power, a river of strength\\nA river that flows far and wide\\nA river that cascades and swirls around\\nA river that brings life to the ground\\n\\nA river of dreams, a river of hope\\nA river to bring joy and cope\\nA river that sparkles in the moonlit night\\nA river that brings hope and light\\n\\nA river of beauty, a river of life\\nA river that brings us peace and delight\\nA river that flows with grace and power\\nA river that will last forever and hour.', generation_info={'finish_reason': 'stop', 'logprobs': None}),\n",
       " Generation(text=\"\\n\\nThe sun is setting on this peaceful day\\nThe birds are singing their evening refrain\\nThe sky is ablaze in red and gold\\nA perfect ending to a story that's been told\\n\\nThe trees are swaying in the gentle breeze\\nThe flowers are blooming in a bright array\\nThe world is so still, like a dream\\nThe beauty of it is here to stay\\n\\nThe moon is rising and the stars are bright\\nThe night is here, with its own delight\\nThe air is calm and the night is still\\nThe peace of the moment brings a thrill\\n\\nAs the night comes to a close\\nThe beauty of the day we chose\\nIt's full of memories and more\\nOf a day that's been and gone before\", generation_info={'finish_reason': 'stop', 'logprobs': None})]"
      ]
     },
     "execution_count": 30,
     "metadata": {},
     "output_type": "execute_result"
    }
   ],
   "source": [
    "llm_result.generations[3]"
   ]
  },
  {
   "cell_type": "code",
   "execution_count": null,
   "metadata": {},
   "outputs": [],
   "source": []
  }
 ],
 "metadata": {
  "kernelspec": {
   "display_name": "Python 3 (ipykernel)",
   "language": "python",
   "name": "python3"
  },
  "language_info": {
   "codemirror_mode": {
    "name": "ipython",
    "version": 3
   },
   "file_extension": ".py",
   "mimetype": "text/x-python",
   "name": "python",
   "nbconvert_exporter": "python",
   "pygments_lexer": "ipython3",
   "version": "3.10.11"
  }
 },
 "nbformat": 4,
 "nbformat_minor": 4
}
